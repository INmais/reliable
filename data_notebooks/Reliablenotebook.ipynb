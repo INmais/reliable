{
 "cells": [
  {
   "cell_type": "markdown",
   "metadata": {},
   "source": [
    "### Reliable project"
   ]
  },
  {
   "cell_type": "markdown",
   "metadata": {},
   "source": [
    "Install in a separare virtual enviroment (namely shapely, geocondas and fiona from pip, not conda), otherwise will may get error due to different versions ('Shell is not a LinearRing'error) when reading shapefiles with geopandas"
   ]
  },
  {
   "cell_type": "code",
   "execution_count": 1,
   "metadata": {},
   "outputs": [],
   "source": [
    "import numpy as np\n",
    "import pandas as pd\n",
    "import geopandas as gpd\n",
    "import matplotlib\n",
    "import descartes"
   ]
  },
  {
   "cell_type": "markdown",
   "metadata": {},
   "source": [
    "Datasets are also here: https://github.com/INmais/reliable/tree/master/data_notebooks"
   ]
  },
  {
   "cell_type": "code",
   "execution_count": 2,
   "metadata": {},
   "outputs": [
    {
     "data": {
      "text/html": [
       "<div>\n",
       "<style scoped>\n",
       "    .dataframe tbody tr th:only-of-type {\n",
       "        vertical-align: middle;\n",
       "    }\n",
       "\n",
       "    .dataframe tbody tr th {\n",
       "        vertical-align: top;\n",
       "    }\n",
       "\n",
       "    .dataframe thead th {\n",
       "        text-align: right;\n",
       "    }\n",
       "</style>\n",
       "<table border=\"1\" class=\"dataframe\">\n",
       "  <thead>\n",
       "    <tr style=\"text-align: right;\">\n",
       "      <th></th>\n",
       "      <th>ANO</th>\n",
       "      <th>GEO_COD</th>\n",
       "      <th>GEO_COD_DSG</th>\n",
       "      <th>NIVEL</th>\n",
       "      <th>NIVEL_DSG</th>\n",
       "      <th>N_EDIFICIOS_CLASSICOS</th>\n",
       "      <th>N_EDIFICIOS_CLASSICOS_1OU2</th>\n",
       "      <th>N_EDIFICIOS_CLASSICOS_ISOLADOS</th>\n",
       "      <th>N_EDIFICIOS_CLASSICOS_GEMIN</th>\n",
       "      <th>N_EDIFICIOS_CLASSICOS_EMBANDA</th>\n",
       "      <th>...</th>\n",
       "      <th>N_IND_RESID_DESEMP_PROC_EMPRG</th>\n",
       "      <th>N_IND_RESID_EMPREGADOS</th>\n",
       "      <th>N_IND_RESID_PENS_REFORM</th>\n",
       "      <th>N_IND_RESID_SEM_ACT_ECON</th>\n",
       "      <th>N_IND_RESID_EMPREG_SECT_PRIM</th>\n",
       "      <th>N_IND_RESID_EMPREG_SECT_SEQ</th>\n",
       "      <th>N_IND_RESID_EMPREG_SECT_TERC</th>\n",
       "      <th>N_IND_RESID_ESTUD_MUN_RESID</th>\n",
       "      <th>N_IND_RESID_TRAB_MUN_RESID</th>\n",
       "      <th>Unnamed: 127</th>\n",
       "    </tr>\n",
       "  </thead>\n",
       "  <tbody>\n",
       "    <tr>\n",
       "      <th>0</th>\n",
       "      <td>2011</td>\n",
       "      <td>'PT</td>\n",
       "      <td>PT</td>\n",
       "      <td>1</td>\n",
       "      <td>Total Nacional</td>\n",
       "      <td>3544389</td>\n",
       "      <td>3219791</td>\n",
       "      <td>1946604</td>\n",
       "      <td>542393</td>\n",
       "      <td>730794</td>\n",
       "      <td>...</td>\n",
       "      <td>539870</td>\n",
       "      <td>4361187</td>\n",
       "      <td>2339094</td>\n",
       "      <td>3966482</td>\n",
       "      <td>133386</td>\n",
       "      <td>1154709</td>\n",
       "      <td>3073092</td>\n",
       "      <td>1773245</td>\n",
       "      <td>2860521</td>\n",
       "      <td>NaN</td>\n",
       "    </tr>\n",
       "    <tr>\n",
       "      <th>1</th>\n",
       "      <td>2011</td>\n",
       "      <td>'1</td>\n",
       "      <td>Continente</td>\n",
       "      <td>2</td>\n",
       "      <td>NUT1</td>\n",
       "      <td>3353610</td>\n",
       "      <td>3035969</td>\n",
       "      <td>1820486</td>\n",
       "      <td>516785</td>\n",
       "      <td>698698</td>\n",
       "      <td>...</td>\n",
       "      <td>515712</td>\n",
       "      <td>4150252</td>\n",
       "      <td>2257145</td>\n",
       "      <td>3782538</td>\n",
       "      <td>121055</td>\n",
       "      <td>1115357</td>\n",
       "      <td>2913840</td>\n",
       "      <td>1669455</td>\n",
       "      <td>2697144</td>\n",
       "      <td>NaN</td>\n",
       "    </tr>\n",
       "    <tr>\n",
       "      <th>2</th>\n",
       "      <td>2011</td>\n",
       "      <td>'11</td>\n",
       "      <td>Norte</td>\n",
       "      <td>3</td>\n",
       "      <td>NUT2</td>\n",
       "      <td>1209911</td>\n",
       "      <td>1118014</td>\n",
       "      <td>744666</td>\n",
       "      <td>200722</td>\n",
       "      <td>172626</td>\n",
       "      <td>...</td>\n",
       "      <td>207538</td>\n",
       "      <td>1501883</td>\n",
       "      <td>768566</td>\n",
       "      <td>1376384</td>\n",
       "      <td>43023</td>\n",
       "      <td>533848</td>\n",
       "      <td>925012</td>\n",
       "      <td>631487</td>\n",
       "      <td>1008020</td>\n",
       "      <td>NaN</td>\n",
       "    </tr>\n",
       "    <tr>\n",
       "      <th>3</th>\n",
       "      <td>2011</td>\n",
       "      <td>'118</td>\n",
       "      <td>Alto Trás-os-Montes</td>\n",
       "      <td>4</td>\n",
       "      <td>NUT3</td>\n",
       "      <td>127220</td>\n",
       "      <td>123194</td>\n",
       "      <td>66466</td>\n",
       "      <td>26515</td>\n",
       "      <td>30213</td>\n",
       "      <td>...</td>\n",
       "      <td>6669</td>\n",
       "      <td>68441</td>\n",
       "      <td>63100</td>\n",
       "      <td>103862</td>\n",
       "      <td>7725</td>\n",
       "      <td>13567</td>\n",
       "      <td>47149</td>\n",
       "      <td>29828</td>\n",
       "      <td>58694</td>\n",
       "      <td>NaN</td>\n",
       "    </tr>\n",
       "    <tr>\n",
       "      <th>4</th>\n",
       "      <td>2011</td>\n",
       "      <td>'1706</td>\n",
       "      <td>Montalegre</td>\n",
       "      <td>5</td>\n",
       "      <td>Municipio</td>\n",
       "      <td>10157</td>\n",
       "      <td>10036</td>\n",
       "      <td>5656</td>\n",
       "      <td>2176</td>\n",
       "      <td>2204</td>\n",
       "      <td>...</td>\n",
       "      <td>246</td>\n",
       "      <td>3098</td>\n",
       "      <td>3866</td>\n",
       "      <td>6049</td>\n",
       "      <td>692</td>\n",
       "      <td>604</td>\n",
       "      <td>1802</td>\n",
       "      <td>1235</td>\n",
       "      <td>2741</td>\n",
       "      <td>NaN</td>\n",
       "    </tr>\n",
       "  </tbody>\n",
       "</table>\n",
       "<p>5 rows × 128 columns</p>\n",
       "</div>"
      ],
      "text/plain": [
       "    ANO GEO_COD          GEO_COD_DSG  NIVEL       NIVEL_DSG  \\\n",
       "0  2011     'PT                   PT      1  Total Nacional   \n",
       "1  2011      '1           Continente      2            NUT1   \n",
       "2  2011     '11                Norte      3            NUT2   \n",
       "3  2011    '118  Alto Trás-os-Montes      4            NUT3   \n",
       "4  2011   '1706           Montalegre      5       Municipio   \n",
       "\n",
       "   N_EDIFICIOS_CLASSICOS  N_EDIFICIOS_CLASSICOS_1OU2  \\\n",
       "0                3544389                     3219791   \n",
       "1                3353610                     3035969   \n",
       "2                1209911                     1118014   \n",
       "3                 127220                      123194   \n",
       "4                  10157                       10036   \n",
       "\n",
       "   N_EDIFICIOS_CLASSICOS_ISOLADOS   N_EDIFICIOS_CLASSICOS_GEMIN  \\\n",
       "0                          1946604                       542393   \n",
       "1                          1820486                       516785   \n",
       "2                           744666                       200722   \n",
       "3                            66466                        26515   \n",
       "4                             5656                         2176   \n",
       "\n",
       "   N_EDIFICIOS_CLASSICOS_EMBANDA  ...  N_IND_RESID_DESEMP_PROC_EMPRG  \\\n",
       "0                         730794  ...                         539870   \n",
       "1                         698698  ...                         515712   \n",
       "2                         172626  ...                         207538   \n",
       "3                          30213  ...                           6669   \n",
       "4                           2204  ...                            246   \n",
       "\n",
       "   N_IND_RESID_EMPREGADOS  N_IND_RESID_PENS_REFORM  N_IND_RESID_SEM_ACT_ECON  \\\n",
       "0                 4361187                  2339094                   3966482   \n",
       "1                 4150252                  2257145                   3782538   \n",
       "2                 1501883                   768566                   1376384   \n",
       "3                   68441                    63100                    103862   \n",
       "4                    3098                     3866                      6049   \n",
       "\n",
       "   N_IND_RESID_EMPREG_SECT_PRIM  N_IND_RESID_EMPREG_SECT_SEQ  \\\n",
       "0                        133386                      1154709   \n",
       "1                        121055                      1115357   \n",
       "2                         43023                       533848   \n",
       "3                          7725                        13567   \n",
       "4                           692                          604   \n",
       "\n",
       "   N_IND_RESID_EMPREG_SECT_TERC  N_IND_RESID_ESTUD_MUN_RESID  \\\n",
       "0                       3073092                      1773245   \n",
       "1                       2913840                      1669455   \n",
       "2                        925012                       631487   \n",
       "3                         47149                        29828   \n",
       "4                          1802                         1235   \n",
       "\n",
       "   N_IND_RESID_TRAB_MUN_RESID  Unnamed: 127  \n",
       "0                     2860521           NaN  \n",
       "1                     2697144           NaN  \n",
       "2                     1008020           NaN  \n",
       "3                       58694           NaN  \n",
       "4                        2741           NaN  \n",
       "\n",
       "[5 rows x 128 columns]"
      ]
     },
     "execution_count": 2,
     "metadata": {},
     "output_type": "execute_result"
    }
   ],
   "source": [
    "#this will not be used for now\n",
    "df = pd.read_csv(\"/Users/dvf/Documents/BGRI2011_1706/BGRI2011_1706.csv\", header=0, sep=\";\", encoding = \"ISO-8859-1\") \n",
    "#had to change encoding\n",
    "df.head()"
   ]
  },
  {
   "cell_type": "code",
   "execution_count": 3,
   "metadata": {},
   "outputs": [
    {
     "data": {
      "text/html": [
       "<div>\n",
       "<style scoped>\n",
       "    .dataframe tbody tr th:only-of-type {\n",
       "        vertical-align: middle;\n",
       "    }\n",
       "\n",
       "    .dataframe tbody tr th {\n",
       "        vertical-align: top;\n",
       "    }\n",
       "\n",
       "    .dataframe thead th {\n",
       "        text-align: right;\n",
       "    }\n",
       "</style>\n",
       "<table border=\"1\" class=\"dataframe\">\n",
       "  <thead>\n",
       "    <tr style=\"text-align: right;\">\n",
       "      <th></th>\n",
       "      <th>Freguesia</th>\n",
       "      <th>IV</th>\n",
       "    </tr>\n",
       "  </thead>\n",
       "  <tbody>\n",
       "    <tr>\n",
       "      <th>0</th>\n",
       "      <td>170601</td>\n",
       "      <td>10</td>\n",
       "    </tr>\n",
       "    <tr>\n",
       "      <th>1</th>\n",
       "      <td>170602</td>\n",
       "      <td>10</td>\n",
       "    </tr>\n",
       "    <tr>\n",
       "      <th>2</th>\n",
       "      <td>170603</td>\n",
       "      <td>11</td>\n",
       "    </tr>\n",
       "    <tr>\n",
       "      <th>3</th>\n",
       "      <td>170604</td>\n",
       "      <td>11</td>\n",
       "    </tr>\n",
       "    <tr>\n",
       "      <th>4</th>\n",
       "      <td>170605</td>\n",
       "      <td>10</td>\n",
       "    </tr>\n",
       "  </tbody>\n",
       "</table>\n",
       "</div>"
      ],
      "text/plain": [
       "   Freguesia  IV\n",
       "0     170601  10\n",
       "1     170602  10\n",
       "2     170603  11\n",
       "3     170604  11\n",
       "4     170605  10"
      ]
     },
     "execution_count": 3,
     "metadata": {},
     "output_type": "execute_result"
    }
   ],
   "source": [
    "df1 = pd.read_csv(\"/Users/dvf/Desktop/IndiceVulnerabilidadeMontalegre.csv\", header=0, sep=\";\", encoding = \"ISO-8859-1\") \n",
    "#tive que mudar encoding\n",
    "df1[\"IV\"] = pd.to_numeric(df1[\"IV\"])\n",
    "df1.head()"
   ]
  },
  {
   "cell_type": "code",
   "execution_count": 4,
   "metadata": {},
   "outputs": [],
   "source": [
    "###Geopandas Shell is not a LinearRing bug (needs clean enviroment, otherwise problem with shapefiles version)\n",
    "fp = \"/Users/dvf/Documents/BGRI2011_1706/BGRI2011_1706.shp\"\n",
    "\n",
    "map_df = gpd.read_file(fp) #this is for geopandas"
   ]
  },
  {
   "cell_type": "code",
   "execution_count": 5,
   "metadata": {},
   "outputs": [],
   "source": [
    "map_df['Freguesias'] = map_df[\"DTMN11\"] + map_df[\"FR11\"]"
   ]
  },
  {
   "cell_type": "code",
   "execution_count": 6,
   "metadata": {},
   "outputs": [
    {
     "name": "stdout",
     "output_type": "stream",
     "text": [
      "{'170601': 10, '170602': 10, '170603': 11, '170604': 11, '170605': 10, '170606': 10, '170607': 11, '170608': 9, '170609': 11, '170610': 9, '170611': 14, '170612': 10, '170613': 11, '170614': 12, '170615': 9, '170616': 10, '170617': 9, '170618': 10, '170619': 10, '170620': 11, '170621': 9, '170622': 11, '170623': 10, '170624': 11, '170625': 14, '170626': 10, '170627': 10, '170628': 12, '170629': 9, '170630': 11, '170631': 11, '170632': 10, '170633': 12, '170634': 9, '170635': 11}\n"
     ]
    }
   ],
   "source": [
    "Dictionary = {\n",
    "    '170601': 10,\n",
    "    '170602': 10,\n",
    "    '170603': 11,\n",
    "    '170604': 11,\n",
    "    '170605': 10,\n",
    "    '170606': 10,\n",
    "    '170607': 11,\n",
    "    '170608': 9,\n",
    "    '170609': 11,\n",
    "    '170610': 9,\n",
    "    '170611': 14,\n",
    "    '170612': 10,\n",
    "    '170613': 11,\n",
    "    '170614': 12,\n",
    "    '170615': 9,\n",
    "    '170616': 10,\n",
    "    '170617':9,\n",
    "    '170618': 10,\n",
    "    '170619': 10,\n",
    "    '170620': 11,\n",
    "    '170621': 9,\n",
    "    '170622': 11,\n",
    "    '170623': 10,\n",
    "    '170624': 11,\n",
    "    '170625': 14,\n",
    "    '170626': 10,\n",
    "    '170627': 10,\n",
    "    '170628': 12,\n",
    "    '170629': 9,\n",
    "    '170630': 11,\n",
    "    '170631': 11,\n",
    "    '170632':10,\n",
    "    '170633': 12,\n",
    "    '170634': 9,\n",
    "    '170635': 11\n",
    "}\n",
    "print (Dictionary)"
   ]
  },
  {
   "cell_type": "code",
   "execution_count": 7,
   "metadata": {},
   "outputs": [],
   "source": [
    "map_df[\"IV\"] = map_df['Freguesias'].map(Dictionary)"
   ]
  },
  {
   "cell_type": "code",
   "execution_count": 8,
   "metadata": {},
   "outputs": [
    {
     "data": {
      "text/plain": [
       "0       170634\n",
       "1       170625\n",
       "2       170626\n",
       "3       170612\n",
       "4       170608\n",
       "5       170608\n",
       "6       170626\n",
       "7       170609\n",
       "8       170626\n",
       "9       170626\n",
       "10      170626\n",
       "11      170612\n",
       "12      170620\n",
       "13      170626\n",
       "14      170626\n",
       "15      170626\n",
       "16      170626\n",
       "17      170626\n",
       "18      170626\n",
       "19      170626\n",
       "20      170626\n",
       "21      170626\n",
       "22      170626\n",
       "23      170626\n",
       "24      170626\n",
       "25      170626\n",
       "26      170626\n",
       "27      170626\n",
       "28      170626\n",
       "29      170607\n",
       "         ...  \n",
       "1387    170630\n",
       "1388    170630\n",
       "1389    170630\n",
       "1390    170630\n",
       "1391    170630\n",
       "1392    170602\n",
       "1393    170613\n",
       "1394    170602\n",
       "1395    170613\n",
       "1396    170613\n",
       "1397    170613\n",
       "1398    170613\n",
       "1399    170606\n",
       "1400    170615\n",
       "1401    170608\n",
       "1402    170608\n",
       "1403    170613\n",
       "1404    170615\n",
       "1405    170615\n",
       "1406    170615\n",
       "1407    170613\n",
       "1408    170608\n",
       "1409    170615\n",
       "1410    170615\n",
       "1411    170613\n",
       "1412    170615\n",
       "1413    170628\n",
       "1414    170628\n",
       "1415    170628\n",
       "1416    170617\n",
       "Name: Freguesias, Length: 1417, dtype: object"
      ]
     },
     "execution_count": 8,
     "metadata": {},
     "output_type": "execute_result"
    }
   ],
   "source": [
    "map_df['Freguesias'] #confirmar"
   ]
  },
  {
   "cell_type": "code",
   "execution_count": 9,
   "metadata": {},
   "outputs": [],
   "source": [
    "ax0 = map_df.plot(color='white', edgecolor='lightgrey', figsize=(11,9))"
   ]
  },
  {
   "cell_type": "code",
   "execution_count": 10,
   "metadata": {},
   "outputs": [
    {
     "data": {
      "text/plain": [
       "<matplotlib.axes._subplots.AxesSubplot at 0x11dc9e400>"
      ]
     },
     "execution_count": 10,
     "metadata": {},
     "output_type": "execute_result"
    },
    {
     "data": {
      "image/png": "[encoded data removed]",
      "text/plain": [
       "<Figure size 1440x720 with 2 Axes>"
      ]
     },
     "metadata": {
      "needs_background": "light"
     },
     "output_type": "display_data"
    }
   ],
   "source": [
    "map_df.plot(column='IV', figsize=(20,10), cmap='OrRd', legend=True, edgecolor='black')"
   ]
  },
  {
   "cell_type": "markdown",
   "metadata": {},
   "source": [
    "## Adding locations\n"
   ]
  },
  {
   "cell_type": "code",
   "execution_count": 11,
   "metadata": {},
   "outputs": [
    {
     "data": {
      "text/plain": [
       "<pandas.plotting._core.FramePlotMethods object at 0x11dcf3518>"
      ]
     },
     "execution_count": 11,
     "metadata": {},
     "output_type": "execute_result"
    }
   ],
   "source": [
    "# initialize list of lists \n",
    "lares = [['Centro Social e Paroquial de Cabril', 41.714849, -8.034901, 30], \n",
    "         ['Centro Social e Paroquial de Vilar de Perdizes', 41.855523, -7.633986, 10], \n",
    "         ['Lar Monte Sereno', 41.798622, -7.666606, 37],\n",
    "         ['Lar Nossa Senhora do Pranto',41.641292, -7.945080,30],\n",
    "         ['Lar dos Pisões para Seniores', 41.737331, -7.869785, 22],\n",
    "         ['Santa Casa da Misericórdia - Lar', 41.822516, -7.790499, 80],\n",
    "         ['Residencial Santa Clara', 41.785061, -7.781880, 36]]\n",
    "    \n",
    "# Create the pandas DataFrame \n",
    "df = pd.DataFrame(lares, columns = ['Name', 'lat', 'long', 'pop']) \n",
    "\n",
    "#where as Geographic coordinates are (y,x) = (lat,lon)\n",
    "# print dataframe. \n",
    "df.plot"
   ]
  },
  {
   "cell_type": "code",
   "execution_count": 12,
   "metadata": {},
   "outputs": [],
   "source": [
    "from shapely.geometry import Point\n",
    "\n",
    "# combine lat and lon column to a shapely Point() object\n",
    "df['geometry'] = df.apply(lambda x: Point((float(x.long), float(x.lat))), axis=1)"
   ]
  },
  {
   "cell_type": "code",
   "execution_count": 13,
   "metadata": {},
   "outputs": [
    {
     "name": "stdout",
     "output_type": "stream",
     "text": [
      "{'init': 'epsg:3763'}\n"
     ]
    }
   ],
   "source": [
    "CRS = map_df.crs\n",
    "\n",
    "print(CRS)"
   ]
  },
  {
   "cell_type": "code",
   "execution_count": 14,
   "metadata": {},
   "outputs": [],
   "source": [
    "df = gpd.GeoDataFrame(df, geometry='geometry')"
   ]
  },
  {
   "cell_type": "code",
   "execution_count": 15,
   "metadata": {},
   "outputs": [],
   "source": [
    "df.crs = {'init':'epsg:3763'}"
   ]
  },
  {
   "cell_type": "code",
   "execution_count": 16,
   "metadata": {},
   "outputs": [
    {
     "data": {
      "text/html": [
       "<div>\n",
       "<style scoped>\n",
       "    .dataframe tbody tr th:only-of-type {\n",
       "        vertical-align: middle;\n",
       "    }\n",
       "\n",
       "    .dataframe tbody tr th {\n",
       "        vertical-align: top;\n",
       "    }\n",
       "\n",
       "    .dataframe thead th {\n",
       "        text-align: right;\n",
       "    }\n",
       "</style>\n",
       "<table border=\"1\" class=\"dataframe\">\n",
       "  <thead>\n",
       "    <tr style=\"text-align: right;\">\n",
       "      <th></th>\n",
       "      <th>Name</th>\n",
       "      <th>lat</th>\n",
       "      <th>long</th>\n",
       "      <th>pop</th>\n",
       "      <th>geometry</th>\n",
       "    </tr>\n",
       "  </thead>\n",
       "  <tbody>\n",
       "    <tr>\n",
       "      <th>0</th>\n",
       "      <td>Centro Social e Paroquial de Cabril</td>\n",
       "      <td>41.714849</td>\n",
       "      <td>-8.034901</td>\n",
       "      <td>30</td>\n",
       "      <td>POINT (-8.034901 41.714849)</td>\n",
       "    </tr>\n",
       "    <tr>\n",
       "      <th>1</th>\n",
       "      <td>Centro Social e Paroquial de Vilar de Perdizes</td>\n",
       "      <td>41.855523</td>\n",
       "      <td>-7.633986</td>\n",
       "      <td>10</td>\n",
       "      <td>POINT (-7.633986 41.855523)</td>\n",
       "    </tr>\n",
       "    <tr>\n",
       "      <th>2</th>\n",
       "      <td>Lar Monte Sereno</td>\n",
       "      <td>41.798622</td>\n",
       "      <td>-7.666606</td>\n",
       "      <td>37</td>\n",
       "      <td>POINT (-7.666606 41.798622)</td>\n",
       "    </tr>\n",
       "    <tr>\n",
       "      <th>3</th>\n",
       "      <td>Lar Nossa Senhora do Pranto</td>\n",
       "      <td>41.641292</td>\n",
       "      <td>-7.945080</td>\n",
       "      <td>30</td>\n",
       "      <td>POINT (-7.94508 41.641292)</td>\n",
       "    </tr>\n",
       "    <tr>\n",
       "      <th>4</th>\n",
       "      <td>Lar dos Pisões para Seniores</td>\n",
       "      <td>41.737331</td>\n",
       "      <td>-7.869785</td>\n",
       "      <td>22</td>\n",
       "      <td>POINT (-7.869785 41.737331)</td>\n",
       "    </tr>\n",
       "  </tbody>\n",
       "</table>\n",
       "</div>"
      ],
      "text/plain": [
       "                                             Name        lat      long  pop  \\\n",
       "0             Centro Social e Paroquial de Cabril  41.714849 -8.034901   30   \n",
       "1  Centro Social e Paroquial de Vilar de Perdizes  41.855523 -7.633986   10   \n",
       "2                                Lar Monte Sereno  41.798622 -7.666606   37   \n",
       "3                     Lar Nossa Senhora do Pranto  41.641292 -7.945080   30   \n",
       "4                    Lar dos Pisões para Seniores  41.737331 -7.869785   22   \n",
       "\n",
       "                      geometry  \n",
       "0  POINT (-8.034901 41.714849)  \n",
       "1  POINT (-7.633986 41.855523)  \n",
       "2  POINT (-7.666606 41.798622)  \n",
       "3   POINT (-7.94508 41.641292)  \n",
       "4  POINT (-7.869785 41.737331)  "
      ]
     },
     "execution_count": 16,
     "metadata": {},
     "output_type": "execute_result"
    }
   ],
   "source": [
    "df.head()"
   ]
  },
  {
   "cell_type": "code",
   "execution_count": 17,
   "metadata": {},
   "outputs": [],
   "source": [
    "df.crs = {'init':'epsg:3763'}"
   ]
  },
  {
   "cell_type": "code",
   "execution_count": 18,
   "metadata": {},
   "outputs": [
    {
     "data": {
      "text/html": [
       "<div>\n",
       "<style scoped>\n",
       "    .dataframe tbody tr th:only-of-type {\n",
       "        vertical-align: middle;\n",
       "    }\n",
       "\n",
       "    .dataframe tbody tr th {\n",
       "        vertical-align: top;\n",
       "    }\n",
       "\n",
       "    .dataframe thead th {\n",
       "        text-align: right;\n",
       "    }\n",
       "</style>\n",
       "<table border=\"1\" class=\"dataframe\">\n",
       "  <thead>\n",
       "    <tr style=\"text-align: right;\">\n",
       "      <th></th>\n",
       "      <th>DTMN11</th>\n",
       "      <th>FR11</th>\n",
       "      <th>SEC11</th>\n",
       "      <th>SS11</th>\n",
       "      <th>BGRI11</th>\n",
       "      <th>LUG11</th>\n",
       "      <th>LUG11DESIG</th>\n",
       "      <th>geometry</th>\n",
       "      <th>Freguesias</th>\n",
       "      <th>IV</th>\n",
       "    </tr>\n",
       "  </thead>\n",
       "  <tbody>\n",
       "    <tr>\n",
       "      <th>0</th>\n",
       "      <td>1706</td>\n",
       "      <td>34</td>\n",
       "      <td>002</td>\n",
       "      <td>38</td>\n",
       "      <td>17063400238</td>\n",
       "      <td>999999</td>\n",
       "      <td>Residual</td>\n",
       "      <td>POLYGON ((26131.41889999993 232084.4857000001,...</td>\n",
       "      <td>170634</td>\n",
       "      <td>9</td>\n",
       "    </tr>\n",
       "    <tr>\n",
       "      <th>1</th>\n",
       "      <td>1706</td>\n",
       "      <td>25</td>\n",
       "      <td>001</td>\n",
       "      <td>15</td>\n",
       "      <td>17062500115</td>\n",
       "      <td>014045</td>\n",
       "      <td>Ladrugães</td>\n",
       "      <td>POLYGON ((17805.88310000021 228000.6173999999,...</td>\n",
       "      <td>170625</td>\n",
       "      <td>14</td>\n",
       "    </tr>\n",
       "    <tr>\n",
       "      <th>2</th>\n",
       "      <td>1706</td>\n",
       "      <td>26</td>\n",
       "      <td>001</td>\n",
       "      <td>42</td>\n",
       "      <td>17062600142</td>\n",
       "      <td>999999</td>\n",
       "      <td>Residual</td>\n",
       "      <td>POLYGON ((16606.63999999966 223659.7104000002,...</td>\n",
       "      <td>170626</td>\n",
       "      <td>10</td>\n",
       "    </tr>\n",
       "    <tr>\n",
       "      <th>3</th>\n",
       "      <td>1706</td>\n",
       "      <td>12</td>\n",
       "      <td>001</td>\n",
       "      <td>31</td>\n",
       "      <td>17061200131</td>\n",
       "      <td>999999</td>\n",
       "      <td>Residual</td>\n",
       "      <td>POLYGON ((35531.56340000033 242104.0514000002,...</td>\n",
       "      <td>170612</td>\n",
       "      <td>10</td>\n",
       "    </tr>\n",
       "    <tr>\n",
       "      <th>4</th>\n",
       "      <td>1706</td>\n",
       "      <td>08</td>\n",
       "      <td>001</td>\n",
       "      <td>08</td>\n",
       "      <td>17060800108</td>\n",
       "      <td>013976</td>\n",
       "      <td>Donões</td>\n",
       "      <td>POLYGON ((26191.65440000035 240495.8397000004,...</td>\n",
       "      <td>170608</td>\n",
       "      <td>9</td>\n",
       "    </tr>\n",
       "  </tbody>\n",
       "</table>\n",
       "</div>"
      ],
      "text/plain": [
       "  DTMN11 FR11 SEC11 SS11       BGRI11   LUG11 LUG11DESIG  \\\n",
       "0   1706   34   002   38  17063400238  999999   Residual   \n",
       "1   1706   25   001   15  17062500115  014045  Ladrugães   \n",
       "2   1706   26   001   42  17062600142  999999   Residual   \n",
       "3   1706   12   001   31  17061200131  999999   Residual   \n",
       "4   1706   08   001   08  17060800108  013976     Donões   \n",
       "\n",
       "                                            geometry Freguesias  IV  \n",
       "0  POLYGON ((26131.41889999993 232084.4857000001,...     170634   9  \n",
       "1  POLYGON ((17805.88310000021 228000.6173999999,...     170625  14  \n",
       "2  POLYGON ((16606.63999999966 223659.7104000002,...     170626  10  \n",
       "3  POLYGON ((35531.56340000033 242104.0514000002,...     170612  10  \n",
       "4  POLYGON ((26191.65440000035 240495.8397000004,...     170608   9  "
      ]
     },
     "execution_count": 18,
     "metadata": {},
     "output_type": "execute_result"
    }
   ],
   "source": [
    "# Filepaths\n",
    "# Check the data\n",
    "map_df.head()"
   ]
  },
  {
   "cell_type": "code",
   "execution_count": 19,
   "metadata": {},
   "outputs": [],
   "source": [
    "cols = list(map_df.columns.values)"
   ]
  },
  {
   "cell_type": "code",
   "execution_count": 20,
   "metadata": {},
   "outputs": [
    {
     "data": {
      "text/plain": [
       "{'init': 'epsg:3763'}"
      ]
     },
     "execution_count": 20,
     "metadata": {},
     "output_type": "execute_result"
    }
   ],
   "source": [
    "map_df.crs"
   ]
  },
  {
   "cell_type": "code",
   "execution_count": 21,
   "metadata": {},
   "outputs": [],
   "source": [
    "from bokeh.plotting import figure, save"
   ]
  },
  {
   "cell_type": "code",
   "execution_count": 22,
   "metadata": {},
   "outputs": [],
   "source": [
    "def getPointCoords(row, geom, coord_type):\n",
    "    \"\"\"Calculates coordinates ('x' or 'y') of a Point geometry\"\"\"\n",
    "    if coord_type == 'x':\n",
    "        return row[geom].x\n",
    "    elif coord_type == 'y':\n",
    "        return row[geom].y"
   ]
  },
  {
   "cell_type": "code",
   "execution_count": 23,
   "metadata": {},
   "outputs": [],
   "source": [
    "df['x'] = df.apply(getPointCoords, geom='geometry', coord_type='x', axis=1)"
   ]
  },
  {
   "cell_type": "code",
   "execution_count": 24,
   "metadata": {},
   "outputs": [],
   "source": [
    "df['y'] = df.apply(getPointCoords, geom='geometry', coord_type='y', axis=1)"
   ]
  },
  {
   "cell_type": "code",
   "execution_count": 25,
   "metadata": {},
   "outputs": [
    {
     "data": {
      "text/html": [
       "<div>\n",
       "<style scoped>\n",
       "    .dataframe tbody tr th:only-of-type {\n",
       "        vertical-align: middle;\n",
       "    }\n",
       "\n",
       "    .dataframe tbody tr th {\n",
       "        vertical-align: top;\n",
       "    }\n",
       "\n",
       "    .dataframe thead th {\n",
       "        text-align: right;\n",
       "    }\n",
       "</style>\n",
       "<table border=\"1\" class=\"dataframe\">\n",
       "  <thead>\n",
       "    <tr style=\"text-align: right;\">\n",
       "      <th></th>\n",
       "      <th>Name</th>\n",
       "      <th>lat</th>\n",
       "      <th>long</th>\n",
       "      <th>pop</th>\n",
       "      <th>geometry</th>\n",
       "      <th>x</th>\n",
       "      <th>y</th>\n",
       "    </tr>\n",
       "  </thead>\n",
       "  <tbody>\n",
       "    <tr>\n",
       "      <th>0</th>\n",
       "      <td>Centro Social e Paroquial de Cabril</td>\n",
       "      <td>41.714849</td>\n",
       "      <td>-8.034901</td>\n",
       "      <td>30</td>\n",
       "      <td>POINT (-8.034901 41.714849)</td>\n",
       "      <td>-8.034901</td>\n",
       "      <td>41.714849</td>\n",
       "    </tr>\n",
       "    <tr>\n",
       "      <th>1</th>\n",
       "      <td>Centro Social e Paroquial de Vilar de Perdizes</td>\n",
       "      <td>41.855523</td>\n",
       "      <td>-7.633986</td>\n",
       "      <td>10</td>\n",
       "      <td>POINT (-7.633986 41.855523)</td>\n",
       "      <td>-7.633986</td>\n",
       "      <td>41.855523</td>\n",
       "    </tr>\n",
       "    <tr>\n",
       "      <th>2</th>\n",
       "      <td>Lar Monte Sereno</td>\n",
       "      <td>41.798622</td>\n",
       "      <td>-7.666606</td>\n",
       "      <td>37</td>\n",
       "      <td>POINT (-7.666606 41.798622)</td>\n",
       "      <td>-7.666606</td>\n",
       "      <td>41.798622</td>\n",
       "    </tr>\n",
       "    <tr>\n",
       "      <th>3</th>\n",
       "      <td>Lar Nossa Senhora do Pranto</td>\n",
       "      <td>41.641292</td>\n",
       "      <td>-7.945080</td>\n",
       "      <td>30</td>\n",
       "      <td>POINT (-7.94508 41.641292)</td>\n",
       "      <td>-7.945080</td>\n",
       "      <td>41.641292</td>\n",
       "    </tr>\n",
       "    <tr>\n",
       "      <th>4</th>\n",
       "      <td>Lar dos Pisões para Seniores</td>\n",
       "      <td>41.737331</td>\n",
       "      <td>-7.869785</td>\n",
       "      <td>22</td>\n",
       "      <td>POINT (-7.869785 41.737331)</td>\n",
       "      <td>-7.869785</td>\n",
       "      <td>41.737331</td>\n",
       "    </tr>\n",
       "  </tbody>\n",
       "</table>\n",
       "</div>"
      ],
      "text/plain": [
       "                                             Name        lat      long  pop  \\\n",
       "0             Centro Social e Paroquial de Cabril  41.714849 -8.034901   30   \n",
       "1  Centro Social e Paroquial de Vilar de Perdizes  41.855523 -7.633986   10   \n",
       "2                                Lar Monte Sereno  41.798622 -7.666606   37   \n",
       "3                     Lar Nossa Senhora do Pranto  41.641292 -7.945080   30   \n",
       "4                    Lar dos Pisões para Seniores  41.737331 -7.869785   22   \n",
       "\n",
       "                      geometry         x          y  \n",
       "0  POINT (-8.034901 41.714849) -8.034901  41.714849  \n",
       "1  POINT (-7.633986 41.855523) -7.633986  41.855523  \n",
       "2  POINT (-7.666606 41.798622) -7.666606  41.798622  \n",
       "3   POINT (-7.94508 41.641292) -7.945080  41.641292  \n",
       "4  POINT (-7.869785 41.737331) -7.869785  41.737331  "
      ]
     },
     "execution_count": 25,
     "metadata": {},
     "output_type": "execute_result"
    }
   ],
   "source": [
    "df.head()"
   ]
  },
  {
   "cell_type": "code",
   "execution_count": 27,
   "metadata": {},
   "outputs": [],
   "source": [
    "from bokeh.models import ColumnDataSource, HoverTool, LogColorMapper\n",
    "import pysal as ps"
   ]
  },
  {
   "cell_type": "code",
   "execution_count": 28,
   "metadata": {},
   "outputs": [],
   "source": [
    "CRS = map_df.crs"
   ]
  },
  {
   "cell_type": "code",
   "execution_count": 29,
   "metadata": {},
   "outputs": [],
   "source": [
    "# Convert the geometries of metro line and points into that one\n",
    "df['geometry'] = df['geometry'].to_crs(crs=CRS)"
   ]
  },
  {
   "cell_type": "code",
   "execution_count": 30,
   "metadata": {},
   "outputs": [
    {
     "data": {
      "text/plain": [
       "0    POINT (-8.034901000004883 41.71484899986343)\n",
       "Name: geometry, dtype: object"
      ]
     },
     "execution_count": 30,
     "metadata": {},
     "output_type": "execute_result"
    }
   ],
   "source": [
    "df['geometry'].head(1)"
   ]
  },
  {
   "cell_type": "code",
   "execution_count": 31,
   "metadata": {},
   "outputs": [],
   "source": [
    "# Convert the geometries of metro line and points into that one\n",
    "map_df['geometry'] = map_df['geometry'].to_crs(crs=CRS)"
   ]
  },
  {
   "cell_type": "code",
   "execution_count": 32,
   "metadata": {},
   "outputs": [
    {
     "data": {
      "text/plain": [
       "0    POLYGON ((26131.41890000001 232084.4857000005,...\n",
       "Name: geometry, dtype: object"
      ]
     },
     "execution_count": 32,
     "metadata": {},
     "output_type": "execute_result"
    }
   ],
   "source": [
    "map_df['geometry'].head(1)"
   ]
  },
  {
   "cell_type": "code",
   "execution_count": 33,
   "metadata": {},
   "outputs": [],
   "source": [
    "def getPolyCoords(row, geom, coord_type):\n",
    "    \"\"\"Returns the coordinates ('x' or 'y') of edges of a Polygon exterior\"\"\"\n",
    "\n",
    "    # Parse the exterior of the coordinate\n",
    "    exterior = row[geom].exterior\n",
    "\n",
    "    if coord_type == 'x':\n",
    "        # Get the x coordinates of the exterior\n",
    "        return list( exterior.coords.xy[0] )\n",
    "    elif coord_type == 'y':\n",
    "        # Get the y coordinates of the exterior\n",
    "        return list( exterior.coords.xy[1] )"
   ]
  },
  {
   "cell_type": "code",
   "execution_count": 34,
   "metadata": {},
   "outputs": [],
   "source": [
    "# Get the Polygon x and y coordinates\n",
    "map_df['x'] = map_df.apply(getPolyCoords, geom='geometry', coord_type='x', axis=1)\n",
    "map_df['y'] = map_df.apply(getPolyCoords, geom='geometry', coord_type='y', axis=1)"
   ]
  },
  {
   "cell_type": "code",
   "execution_count": 35,
   "metadata": {},
   "outputs": [
    {
     "data": {
      "text/html": [
       "<div>\n",
       "<style scoped>\n",
       "    .dataframe tbody tr th:only-of-type {\n",
       "        vertical-align: middle;\n",
       "    }\n",
       "\n",
       "    .dataframe tbody tr th {\n",
       "        vertical-align: top;\n",
       "    }\n",
       "\n",
       "    .dataframe thead th {\n",
       "        text-align: right;\n",
       "    }\n",
       "</style>\n",
       "<table border=\"1\" class=\"dataframe\">\n",
       "  <thead>\n",
       "    <tr style=\"text-align: right;\">\n",
       "      <th></th>\n",
       "      <th>x</th>\n",
       "      <th>y</th>\n",
       "    </tr>\n",
       "  </thead>\n",
       "  <tbody>\n",
       "    <tr>\n",
       "      <th>0</th>\n",
       "      <td>[26131.418900000008, 26132.562300000398, 26133...</td>\n",
       "      <td>[232084.48570000048, 232080.94649999938, 23207...</td>\n",
       "    </tr>\n",
       "    <tr>\n",
       "      <th>1</th>\n",
       "      <td>[17805.883100000192, 17808.574099999885, 17811...</td>\n",
       "      <td>[228000.61740000008, 227994.93869999977, 22798...</td>\n",
       "    </tr>\n",
       "  </tbody>\n",
       "</table>\n",
       "</div>"
      ],
      "text/plain": [
       "                                                   x  \\\n",
       "0  [26131.418900000008, 26132.562300000398, 26133...   \n",
       "1  [17805.883100000192, 17808.574099999885, 17811...   \n",
       "\n",
       "                                                   y  \n",
       "0  [232084.48570000048, 232080.94649999938, 23207...  \n",
       "1  [228000.61740000008, 227994.93869999977, 22798...  "
      ]
     },
     "execution_count": 35,
     "metadata": {},
     "output_type": "execute_result"
    }
   ],
   "source": [
    "map_df[['x', 'y']].head(2)"
   ]
  },
  {
   "cell_type": "code",
   "execution_count": 36,
   "metadata": {},
   "outputs": [
    {
     "data": {
      "text/html": [
       "<div>\n",
       "<style scoped>\n",
       "    .dataframe tbody tr th:only-of-type {\n",
       "        vertical-align: middle;\n",
       "    }\n",
       "\n",
       "    .dataframe tbody tr th {\n",
       "        vertical-align: top;\n",
       "    }\n",
       "\n",
       "    .dataframe thead th {\n",
       "        text-align: right;\n",
       "    }\n",
       "</style>\n",
       "<table border=\"1\" class=\"dataframe\">\n",
       "  <thead>\n",
       "    <tr style=\"text-align: right;\">\n",
       "      <th></th>\n",
       "      <th>DTMN11</th>\n",
       "      <th>FR11</th>\n",
       "      <th>SEC11</th>\n",
       "      <th>SS11</th>\n",
       "      <th>BGRI11</th>\n",
       "      <th>LUG11</th>\n",
       "      <th>LUG11DESIG</th>\n",
       "      <th>geometry</th>\n",
       "      <th>Freguesias</th>\n",
       "      <th>IV</th>\n",
       "      <th>x</th>\n",
       "      <th>y</th>\n",
       "    </tr>\n",
       "  </thead>\n",
       "  <tbody>\n",
       "    <tr>\n",
       "      <th>0</th>\n",
       "      <td>1706</td>\n",
       "      <td>34</td>\n",
       "      <td>002</td>\n",
       "      <td>38</td>\n",
       "      <td>17063400238</td>\n",
       "      <td>999999</td>\n",
       "      <td>Residual</td>\n",
       "      <td>POLYGON ((26131.41890000001 232084.4857000005,...</td>\n",
       "      <td>170634</td>\n",
       "      <td>9</td>\n",
       "      <td>[26131.418900000008, 26132.562300000398, 26133...</td>\n",
       "      <td>[232084.48570000048, 232080.94649999938, 23207...</td>\n",
       "    </tr>\n",
       "    <tr>\n",
       "      <th>1</th>\n",
       "      <td>1706</td>\n",
       "      <td>25</td>\n",
       "      <td>001</td>\n",
       "      <td>15</td>\n",
       "      <td>17062500115</td>\n",
       "      <td>014045</td>\n",
       "      <td>Ladrugães</td>\n",
       "      <td>POLYGON ((17805.88310000019 228000.6174000001,...</td>\n",
       "      <td>170625</td>\n",
       "      <td>14</td>\n",
       "      <td>[17805.883100000192, 17808.574099999885, 17811...</td>\n",
       "      <td>[228000.61740000008, 227994.93869999977, 22798...</td>\n",
       "    </tr>\n",
       "  </tbody>\n",
       "</table>\n",
       "</div>"
      ],
      "text/plain": [
       "  DTMN11 FR11 SEC11 SS11       BGRI11   LUG11 LUG11DESIG  \\\n",
       "0   1706   34   002   38  17063400238  999999   Residual   \n",
       "1   1706   25   001   15  17062500115  014045  Ladrugães   \n",
       "\n",
       "                                            geometry Freguesias  IV  \\\n",
       "0  POLYGON ((26131.41890000001 232084.4857000005,...     170634   9   \n",
       "1  POLYGON ((17805.88310000019 228000.6174000001,...     170625  14   \n",
       "\n",
       "                                                   x  \\\n",
       "0  [26131.418900000008, 26132.562300000398, 26133...   \n",
       "1  [17805.883100000192, 17808.574099999885, 17811...   \n",
       "\n",
       "                                                   y  \n",
       "0  [232084.48570000048, 232080.94649999938, 23207...  \n",
       "1  [228000.61740000008, 227994.93869999977, 22798...  "
      ]
     },
     "execution_count": 36,
     "metadata": {},
     "output_type": "execute_result"
    }
   ],
   "source": [
    "map_df.head(2)"
   ]
  },
  {
   "cell_type": "code",
   "execution_count": 37,
   "metadata": {},
   "outputs": [],
   "source": [
    "# Make a copy, drop the geometry column and create ColumnDataSource\n",
    "p_df = df.drop('geometry', axis=1).copy()\n",
    "psource = ColumnDataSource(p_df)\n",
    "\n",
    "# Make a copy, drop the geometry column and create ColumnDataSource\n",
    "g_df = map_df.drop('geometry', axis=1).copy()\n",
    "gsource = ColumnDataSource(g_df)"
   ]
  },
  {
   "cell_type": "code",
   "execution_count": 38,
   "metadata": {},
   "outputs": [],
   "source": [
    "# coloring that converts the color palet into map numbers\n",
    "from bokeh.palettes import RdYlBu11 as palette\n",
    "from bokeh.models import LogColorMapper\n",
    "\n",
    "# Create the color mapper\n",
    "color_mapper = LogColorMapper(palette=palette)"
   ]
  },
  {
   "cell_type": "code",
   "execution_count": 39,
   "metadata": {},
   "outputs": [
    {
     "name": "stderr",
     "output_type": "stream",
     "text": [
      "BokehDeprecationWarning: CARTODBPOSITRON was deprecated in Bokeh 1.1.0 and will be removed, use get_provider(Vendors.CARTODBPOSITRON) instead.\n",
      "/anaconda3/envs/geo/lib/python3.7/site-packages/bokeh/models/plots.py:748: UserWarning: \n",
      "You are attempting to set `plot.legend.location` on a plot that has zero legends added, this will have no effect.\n",
      "\n",
      "Before legend properties can be set, you must add a Legend explicitly, or call a glyph method with the 'legend' parameter set.\n",
      "\n",
      "  warnings.warn(_LEGEND_EMPTY_WARNING % attr)\n",
      "/anaconda3/envs/geo/lib/python3.7/site-packages/bokeh/models/plots.py:748: UserWarning: \n",
      "You are attempting to set `plot.legend.orientation` on a plot that has zero legends added, this will have no effect.\n",
      "\n",
      "Before legend properties can be set, you must add a Legend explicitly, or call a glyph method with the 'legend' parameter set.\n",
      "\n",
      "  warnings.warn(_LEGEND_EMPTY_WARNING % attr)\n"
     ]
    }
   ],
   "source": [
    "from bokeh.plotting import figure, output_file, output_notebook, show\n",
    "from bokeh.models import LogColorMapper, LogTicker, ColorBar\n",
    "from bokeh.tile_providers import CARTODBPOSITRON\n",
    "\n",
    "\n",
    "p = figure()\n",
    "\n",
    "\n",
    "# Initialize our figure\n",
    "p = figure(title=\"Vulnarability Index (Montalegre)\", plot_width=800, plot_height=450, x_range=(0, 50000), y_range=(205000, 250000),\n",
    "           x_axis_type=\"mercator\", y_axis_type=\"mercator\")\n",
    "\n",
    "p.add_tile(CARTODBPOSITRON)\n",
    "\n",
    "\n",
    "# Plot grid\n",
    "mapping = p.patches('x', 'y', source=gsource,\n",
    "         fill_color={'field': 'IV', 'transform': color_mapper},\n",
    "         fill_alpha=1.0, line_color=\"black\", line_width=0.5)\n",
    "\n",
    "# Add schools on top (as yellow points)\n",
    "#p.circle('x', 'y', size=3, source=psource, color=\"yellow\")\n",
    "\n",
    "# Modify legend location\n",
    "\n",
    "color_bar = ColorBar(color_mapper=color_mapper, ticker=LogTicker(),\n",
    "                     label_standoff=12, border_line_color=None, location=(0,0))\n",
    "\n",
    "p.add_layout(color_bar, 'right')\n",
    "\n",
    "p.legend.location = \"top_right\"\n",
    "p.legend.orientation = \"vertical\"\n",
    "\n",
    "# Insert a circle on top of the Central Railway Station (coords in EurefFIN-TM35FIN)\n",
    "station_x = -8.034901 \n",
    "station_y =  41.714849\n",
    "#circle = p.circle(x=[station_x], y=[station_y], name=\"point\", size=6, color=\"yellow\", legend=\"sin(x)\")\n",
    "\n",
    "# let's also add the hover over info tool\n",
    "# Add two separate hover tools for the data\n",
    "#phover = HoverTool(renderers=[circle])\n",
    "#phover.tooltips=[('Name', '@Name'),\n",
    "                   # ('population', '@pop')]\n",
    "\n",
    "ghover = HoverTool(renderers=[mapping])\n",
    "ghover.tooltips = [('IV', '@IV'),\n",
    "                    ('Place', '@LUG11DESIG')]\n",
    "\n",
    "p.add_tools(ghover)\n",
    "#p.add_tools(phover)\n",
    "\n",
    "# Save the figure\n",
    "outfp = r\"/Users/dvf/Documents/map.html\"\n",
    "output_file(outfp)\n",
    "show(p)"
   ]
  },
  {
   "cell_type": "code",
   "execution_count": null,
   "metadata": {},
   "outputs": [],
   "source": []
  },
  {
   "cell_type": "code",
   "execution_count": null,
   "metadata": {},
   "outputs": [],
   "source": []
  }
 ],
 "metadata": {
  "kernelspec": {
   "display_name": "Python 3",
   "language": "python",
   "name": "python3"
  },
  "language_info": {
   "codemirror_mode": {
    "name": "ipython",
    "version": 3
   },
   "file_extension": ".py",
   "mimetype": "text/x-python",
   "name": "python",
   "nbconvert_exporter": "python",
   "pygments_lexer": "ipython3",
   "version": "3.7.3"
  }
 },
 "nbformat": 4,
 "nbformat_minor": 2
}
